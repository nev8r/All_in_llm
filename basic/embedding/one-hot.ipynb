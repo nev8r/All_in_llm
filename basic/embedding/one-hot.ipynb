{
 "cells": [
  {
   "cell_type": "markdown",
   "id": "409fd950",
   "metadata": {},
   "source": [
    "### One-hot"
   ]
  },
  {
   "cell_type": "code",
   "execution_count": 1,
   "id": "d46d308e",
   "metadata": {},
   "outputs": [
    {
     "name": "stdout",
     "output_type": "stream",
     "text": [
      "OneHot编码:\n",
      "'apple': [1, 0, 0]\n",
      "'banana': [0, 1, 0]\n",
      "'cherry': [0, 0, 1]\n"
     ]
    }
   ],
   "source": [
    "# 词汇表\n",
    "vocab = [\"apple\", \"banana\", \"cherry\"]\n",
    "# 构造一个词到索引的映射\n",
    "word_to_index = {word: idx for idx, word in enumerate(vocab)}\n",
    "\n",
    "# 定义OneHot编码函数\n",
    "def one_hot_encoding(word, vocab, word_to_index):\n",
    "    # 创建一个与词汇表长度相等的全0向量\n",
    "    encoding = [0] * len(vocab)\n",
    "    \n",
    "    # 获取该词的索引\n",
    "    idx = word_to_index.get(word, -1)\n",
    "    \n",
    "    if idx != -1:\n",
    "        encoding[idx] = 1  # 将对应索引的位置置为1\n",
    "    return encoding\n",
    "# 测试\n",
    "print(\"OneHot编码:\")\n",
    "for word in vocab:\n",
    "    print(f\"'{word}': {one_hot_encoding(word, vocab, word_to_index)}\")"
   ]
  }
 ],
 "metadata": {
  "kernelspec": {
   "display_name": "All_in_llm (3.12.11)",
   "language": "python",
   "name": "python3"
  },
  "language_info": {
   "codemirror_mode": {
    "name": "ipython",
    "version": 3
   },
   "file_extension": ".py",
   "mimetype": "text/x-python",
   "name": "python",
   "nbconvert_exporter": "python",
   "pygments_lexer": "ipython3",
   "version": "3.12.11"
  }
 },
 "nbformat": 4,
 "nbformat_minor": 5
}
