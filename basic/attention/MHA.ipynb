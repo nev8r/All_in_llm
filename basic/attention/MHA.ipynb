{
 "cells": [
  {
   "cell_type": "code",
   "execution_count": null,
   "id": "3d178e5f",
   "metadata": {},
   "outputs": [],
   "source": [
    "import torch\n",
    "from torch import nn,Tensor"
   ]
  },
  {
   "cell_type": "code",
   "execution_count": null,
   "id": "1fd595c0",
   "metadata": {},
   "outputs": [],
   "source": [
    "class MHA(nn.Module):\n",
    "    \n",
    "    def __init__(self,d_model:int,num_heads:int):\n",
    "        super().__init__()\n",
    "        self.d_model = d_model\n",
    "        self.num_heads = num_heads\n",
    "        self.head_dim = d_model / num_heads\n",
    "    \n",
    "        self.q_proj = nn.Linear(d_model,d_model,bias=False)\n",
    "        self.k_proj = nn.Linear(d_model,d_model,bias=False)\n",
    "        self.v_proj = nn.Linear(d_model,d_model,bias=False)\n",
    "        self.o_proj = nn.Linear(d_model,d_model,bias=False)\n",
    "        \n",
    "    def forward(self,x:Tensor,attention_mask:Tensor = None):\n",
    "        \n",
    "        batch_size = x.shape[0]\n",
    "\n",
    "        q = self.q_proj(x)\n",
    "        k = self.k_proj(x)\n",
    "        v = self.v_proj(x)\n",
    "        \n",
    "        q = q.view(batch_size,-1,self.num_heads,self.head_dim).transpose(1,2)\n",
    "        k = k.view(batch_size,-1,self.num_heads,self.head_dim).transpose(1,2)\n",
    "        v = v.view(batch_size,-1,self.num_heads,self.head_dim).transpose(1,2)\n",
    "        \n",
    "        \n",
    "        attn = torch.matmul(q,k.transpose(-1,-2))/torch.sqrt(Tensor(self.d_model))\n",
    "        \n",
    "        if attention_mask:\n",
    "            attn =  attn.masked_fill(attention_mask == 0,float('inf'))\n",
    "        \n",
    "        attn = torch.softmax(attn,dim = -1)\n",
    "        \n",
    "        attn = torch.matmul(attn,v)\n",
    "        \n",
    "        attn = attn.transpose(1,2).contiguous().view(batch_size,-1,self.d_model)\n",
    "        \n",
    "        return self.o_proj(attn)\n",
    "        \n",
    "        "
   ]
  }
 ],
 "metadata": {
  "kernelspec": {
   "display_name": "All_in_llm (3.12.11)",
   "language": "python",
   "name": "python3"
  },
  "language_info": {
   "codemirror_mode": {
    "name": "ipython",
    "version": 3
   },
   "file_extension": ".py",
   "mimetype": "text/x-python",
   "name": "python",
   "nbconvert_exporter": "python",
   "pygments_lexer": "ipython3",
   "version": "3.12.11"
  }
 },
 "nbformat": 4,
 "nbformat_minor": 5
}
