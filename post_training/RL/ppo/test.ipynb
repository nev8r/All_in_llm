{
 "cells": [
  {
   "cell_type": "code",
   "execution_count": 7,
   "id": "8052aa7d",
   "metadata": {},
   "outputs": [],
   "source": [
    "import torch\n",
    "from transformers import (\n",
    "    AutoModelForCausalLM,\n",
    "    AutoTokenizer,\n",
    ")\n",
    "from peft import  PeftModel  "
   ]
  },
  {
   "cell_type": "code",
   "execution_count": 8,
   "id": "1fad8ad6",
   "metadata": {},
   "outputs": [
    {
     "name": "stdout",
     "output_type": "stream",
     "text": [
      "基础模型生成: 在Python中，字典是一种无序的、可变的数据结构，它存储一组键值对。每个键（key）都有一个对应的值（value），并且键必须是唯一的。字典使用一对花括号{}来表示，并且可以包含任意数量和类型的键值对。\n",
      "\n",
      "以下是一些基本概念：\n",
      "\n",
      "1. 键：字典的唯一标识符，可以是任何不可变类型，如字符串、数字或元组。\n",
      "\n",
      "2. �\n",
      "PPO模型生成: 在Python中，字典是一种数据结构，它用于存储键值对。每个键都是唯一的，并且可以是任何可哈希的类型（例如字符串、数字或列表），而对应的值也可以是任何类型的对象。\n",
      "\n",
      "字典通常用大括号 `{}` 来表示，其中包含一对对键和值的元素。这些元素之间使用冒号 `:` 分隔，然后在同一行上用逗号 `,` 隔开其他元素。\n",
      "\n",
      "以下是一\n"
     ]
    }
   ],
   "source": [
    "def test_ppo_vs_base(prompt, model_name, lora_path=\"./qwen2.5-1.5b-ppo-lora\"):\n",
    "    # 加载基础模型\n",
    "    base_model = AutoModelForCausalLM.from_pretrained(\n",
    "        model_name,\n",
    "        torch_dtype=torch.bfloat16 if torch.cuda.is_available() else torch.float32,\n",
    "        device_map=\"auto\",\n",
    "    )\n",
    "    base_model.eval()  # 基础模型设为评估模式\n",
    "    \n",
    "    # 加载tokenizer（保持与原逻辑一致，使用lora路径的tokenizer）\n",
    "    tokenizer = AutoTokenizer.from_pretrained(lora_path)\n",
    "    tokenizer.pad_token = tokenizer.eos_token\n",
    "    \n",
    "    # 处理输入\n",
    "    messages = [{\"role\": \"user\", \"content\": prompt}]\n",
    "    text = tokenizer.apply_chat_template(messages, tokenize=False, add_generation_prompt=True)\n",
    "    inputs = tokenizer(text, return_tensors=\"pt\").to(base_model.device)\n",
    "    \n",
    "    # 基础模型生成\n",
    "    with torch.no_grad():\n",
    "        base_outputs = base_model.generate(\n",
    "            **inputs,\n",
    "            max_new_tokens=100,\n",
    "            do_sample=True,\n",
    "            top_k=50,\n",
    "            top_p=0.9,\n",
    "            temperature=0.7,\n",
    "            pad_token_id=tokenizer.eos_token_id\n",
    "        )\n",
    "    base_generated = tokenizer.decode(base_outputs[0], skip_special_tokens=True)\n",
    "    base_result = base_generated.split(\"assistant\\n\")[-1].strip()\n",
    "    \n",
    "    # 加载PPO模型（base + LoRA）\n",
    "    ppo_model = PeftModel.from_pretrained(base_model, lora_path)  # 加载LoRA适配器\n",
    "    ppo_model.eval()\n",
    "    \n",
    "    # PPO模型生成\n",
    "    with torch.no_grad():\n",
    "        ppo_outputs = ppo_model.generate(\n",
    "            **inputs,\n",
    "            max_new_tokens=100,\n",
    "            do_sample=True,\n",
    "            top_k=50,\n",
    "            top_p=0.9,\n",
    "            temperature=0.7,\n",
    "            pad_token_id=tokenizer.eos_token_id\n",
    "        )\n",
    "    ppo_generated = tokenizer.decode(ppo_outputs[0], skip_special_tokens=True)\n",
    "    ppo_result = ppo_generated.split(\"assistant\\n\")[-1].strip()\n",
    "    \n",
    "    return base_result, ppo_result\n",
    "\n",
    "# 示例测试\n",
    "test_prompt = \"Python中的字典是什么？\"\n",
    "base_result, ppo_result = test_ppo_vs_base(test_prompt, model_name=\"/root/All_in_llm/models/Qwen2.5-1.5B-Instruct\")  \n",
    "print(f\"基础模型生成: {base_result}\")\n",
    "print(f\"PPO模型生成: {ppo_result}\")"
   ]
  }
 ],
 "metadata": {
  "kernelspec": {
   "display_name": "All_in_llm (3.12.11)",
   "language": "python",
   "name": "python3"
  },
  "language_info": {
   "codemirror_mode": {
    "name": "ipython",
    "version": 3
   },
   "file_extension": ".py",
   "mimetype": "text/x-python",
   "name": "python",
   "nbconvert_exporter": "python",
   "pygments_lexer": "ipython3",
   "version": "3.12.11"
  }
 },
 "nbformat": 4,
 "nbformat_minor": 5
}
